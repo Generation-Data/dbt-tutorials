{
 "cells": [
  {
   "cell_type": "markdown",
   "metadata": {},
   "source": [
    "# Using the DBT Python Package\n",
    "If you need some python processing in the middle of your data modeling (ML that's used in further analytics or something similar), and you don't want to go down the plugin/function API route, one can use the dbt CLI programmatically within python."
   ]
  },
  {
   "cell_type": "code",
   "execution_count": 1,
   "metadata": {},
   "outputs": [],
   "source": [
    "import os\n",
    "\n",
    "#We need to change our working directory to be in the same folder as the dbt_project.yml folder\n",
    "os.chdir('../mi_cfr_duckdb_dbt/')"
   ]
  },
  {
   "cell_type": "markdown",
   "metadata": {},
   "source": [
    "### We create an instance of the dbt runner class and feed it the same type of command line arguments"
   ]
  },
  {
   "cell_type": "code",
   "execution_count": 2,
   "metadata": {},
   "outputs": [
    {
     "name": "stdout",
     "output_type": "stream",
     "text": [
      "\u001b[0m02:26:11  Running with dbt=1.8.2\n",
      "\u001b[0m02:26:11  Registered adapter: duckdb=1.8.1\n",
      "\u001b[0m02:26:11  Found 9 models, 1 test, 1 operation, 407 macros\n",
      "\u001b[0m02:26:11  \n",
      "\u001b[0m02:26:11  \n",
      "\u001b[0m02:26:11  Running 1 on-run-start hook\n",
      "\u001b[0m02:26:12  1 of 1 START hook: mi_cfr_duckdb.on-run-start.0 ................................ [RUN]\n",
      "\u001b[0m02:26:12  1 of 1 OK hook: mi_cfr_duckdb.on-run-start.0 ................................... [\u001b[32mOK\u001b[0m in 0.00s]\n",
      "\u001b[0m02:26:12  \n",
      "\u001b[0m02:26:12  Concurrency: 1 threads (target='dev')\n",
      "\u001b[0m02:26:12  \n",
      "\u001b[0m02:26:12  1 of 1 START sql external model main.stg_expenditures .......................... [RUN]\n",
      "\u001b[0m02:26:12  1 of 1 OK created sql external model main.stg_expenditures ..................... [\u001b[32mOK\u001b[0m in 0.79s]\n",
      "\u001b[0m02:26:12  \n",
      "\u001b[0m02:26:12  Finished running 1 external model, 1 project hook in 0 hours 0 minutes and 1.14 seconds (1.14s).\n",
      "\u001b[0m02:26:12  \n",
      "\u001b[0m02:26:12  \u001b[32mCompleted successfully\u001b[0m\n",
      "\u001b[0m02:26:12  \n",
      "\u001b[0m02:26:12  Done. PASS=1 WARN=0 ERROR=0 SKIP=0 TOTAL=1\n"
     ]
    }
   ],
   "source": [
    "from dbt.cli.main import dbtRunner, dbtRunnerResult\n",
    "\n",
    "dbt = dbtRunner()\n",
    "result = dbt.invoke(['run', '--model', 'stg_expenditures'])"
   ]
  },
  {
   "cell_type": "markdown",
   "metadata": {},
   "source": [
    "### We then can then get the data objects that we've created and run our process on them\n",
    "In this case I reuse the same logic for the classify_expenditure function from the function API"
   ]
  },
  {
   "cell_type": "code",
   "execution_count": 3,
   "metadata": {},
   "outputs": [
    {
     "data": {
      "text/html": [
       "<div>\n",
       "<style scoped>\n",
       "    .dataframe tbody tr th:only-of-type {\n",
       "        vertical-align: middle;\n",
       "    }\n",
       "\n",
       "    .dataframe tbody tr th {\n",
       "        vertical-align: top;\n",
       "    }\n",
       "\n",
       "    .dataframe thead th {\n",
       "        text-align: right;\n",
       "    }\n",
       "</style>\n",
       "<table border=\"1\" class=\"dataframe\">\n",
       "  <thead>\n",
       "    <tr style=\"text-align: right;\">\n",
       "      <th></th>\n",
       "      <th>concat_expenditure</th>\n",
       "    </tr>\n",
       "  </thead>\n",
       "  <tbody>\n",
       "    <tr>\n",
       "      <th>0</th>\n",
       "      <td>credit card fee processing fee</td>\n",
       "    </tr>\n",
       "    <tr>\n",
       "      <th>1</th>\n",
       "      <td>print advertising print and management costs</td>\n",
       "    </tr>\n",
       "    <tr>\n",
       "      <th>2</th>\n",
       "      <td>credit card fee processing fee</td>\n",
       "    </tr>\n",
       "    <tr>\n",
       "      <th>3</th>\n",
       "      <td>campaign office expense printer cartridge</td>\n",
       "    </tr>\n",
       "    <tr>\n",
       "      <th>4</th>\n",
       "      <td>mailing,postage,bulk rate post cards</td>\n",
       "    </tr>\n",
       "  </tbody>\n",
       "</table>\n",
       "</div>"
      ],
      "text/plain": [
       "                             concat_expenditure\n",
       "0                credit card fee processing fee\n",
       "1  print advertising print and management costs\n",
       "2                credit card fee processing fee\n",
       "3     campaign office expense printer cartridge\n",
       "4          mailing,postage,bulk rate post cards"
      ]
     },
     "execution_count": 3,
     "metadata": {},
     "output_type": "execute_result"
    }
   ],
   "source": [
    "import duckdb\n",
    "\n",
    "df = duckdb.sql('''\n",
    "    SELECT LOWER(CONCAT(expenditure_description, ' ', expenditure_purpose)) AS concat_expenditure\n",
    "    FROM '../data/staging/stg_expenditures.parquet'\n",
    "    LIMIT 100\n",
    "''').df()\n",
    "\n",
    "df.head()"
   ]
  },
  {
   "cell_type": "code",
   "execution_count": 5,
   "metadata": {},
   "outputs": [
    {
     "data": {
      "text/plain": [
       "{'run_prediction': <function __main__.run_prediction(text, classifier, labels)>,\n",
       " 'classifier': <transformers.pipelines.zero_shot_classification.ZeroShotClassificationPipeline at 0x7aa9a4e92de0>,\n",
       " 'labels': ['paid media',\n",
       "  'payroll',\n",
       "  'food',\n",
       "  'contribution',\n",
       "  'consulting',\n",
       "  'bank or credit card fees',\n",
       "  'other campaign activities']}"
      ]
     },
     "execution_count": 5,
     "metadata": {},
     "output_type": "execute_result"
    }
   ],
   "source": [
    "from typing import List\n",
    "\n",
    "import cloudpickle\n",
    "from duckdb.typing import DuckDBPyType\n",
    "\n",
    "\n",
    "def load_model_dict():\n",
    "    with open('../data/ml_models/zero_shot_model.pkl', 'rb') as f:\n",
    "        model_dict = cloudpickle.load(f)\n",
    "    return model_dict\n",
    "\n",
    "\n",
    "def classify_expenditure(model_dict: dict, text: str , threshold: float) -> str:\n",
    "    prediction = model_dict['run_prediction'](text, model_dict['classifier'], model_dict['labels'])\n",
    "    if prediction['predicted_prob'] > threshold:\n",
    "        return prediction['predicted_label']\n",
    "    else:\n",
    "        return \"unknown\"\n",
    "        \n",
    "model_dict = load_model_dict()\n",
    "model_dict"
   ]
  },
  {
   "cell_type": "code",
   "execution_count": 6,
   "metadata": {},
   "outputs": [
    {
     "data": {
      "text/html": [
       "<div>\n",
       "<style scoped>\n",
       "    .dataframe tbody tr th:only-of-type {\n",
       "        vertical-align: middle;\n",
       "    }\n",
       "\n",
       "    .dataframe tbody tr th {\n",
       "        vertical-align: top;\n",
       "    }\n",
       "\n",
       "    .dataframe thead th {\n",
       "        text-align: right;\n",
       "    }\n",
       "</style>\n",
       "<table border=\"1\" class=\"dataframe\">\n",
       "  <thead>\n",
       "    <tr style=\"text-align: right;\">\n",
       "      <th></th>\n",
       "      <th>concat_expenditure</th>\n",
       "      <th>predicted_label</th>\n",
       "    </tr>\n",
       "  </thead>\n",
       "  <tbody>\n",
       "    <tr>\n",
       "      <th>0</th>\n",
       "      <td>credit card fee processing fee</td>\n",
       "      <td>bank or credit card fees</td>\n",
       "    </tr>\n",
       "    <tr>\n",
       "      <th>1</th>\n",
       "      <td>print advertising print and management costs</td>\n",
       "      <td>paid media</td>\n",
       "    </tr>\n",
       "    <tr>\n",
       "      <th>2</th>\n",
       "      <td>credit card fee processing fee</td>\n",
       "      <td>bank or credit card fees</td>\n",
       "    </tr>\n",
       "    <tr>\n",
       "      <th>3</th>\n",
       "      <td>campaign office expense printer cartridge</td>\n",
       "      <td>unknown</td>\n",
       "    </tr>\n",
       "    <tr>\n",
       "      <th>4</th>\n",
       "      <td>mailing,postage,bulk rate post cards</td>\n",
       "      <td>unknown</td>\n",
       "    </tr>\n",
       "  </tbody>\n",
       "</table>\n",
       "</div>"
      ],
      "text/plain": [
       "                             concat_expenditure           predicted_label\n",
       "0                credit card fee processing fee  bank or credit card fees\n",
       "1  print advertising print and management costs                paid media\n",
       "2                credit card fee processing fee  bank or credit card fees\n",
       "3     campaign office expense printer cartridge                   unknown\n",
       "4          mailing,postage,bulk rate post cards                   unknown"
      ]
     },
     "execution_count": 6,
     "metadata": {},
     "output_type": "execute_result"
    }
   ],
   "source": [
    "df['predicted_label'] = df['concat_expenditure'].apply(lambda x: classify_expenditure(model_dict, x, 0.75))\n",
    "df.head()    "
   ]
  },
  {
   "cell_type": "markdown",
   "metadata": {},
   "source": [
    "### We can then save this in a location for our downstream models to pick up"
   ]
  },
  {
   "cell_type": "code",
   "execution_count": 8,
   "metadata": {},
   "outputs": [],
   "source": [
    "df.to_parquet('../data/ml/model_output.parquet')"
   ]
  },
  {
   "cell_type": "markdown",
   "metadata": {},
   "source": [
    "### We then invoke the dbt cli using our generated data.\n",
    "### Note that you will need to enable the mlproject in your dbt_project.yml:\n",
    "    ml:\n",
    "      +enabled: true"
   ]
  },
  {
   "cell_type": "code",
   "execution_count": 11,
   "metadata": {},
   "outputs": [
    {
     "name": "stdout",
     "output_type": "stream",
     "text": [
      "\u001b[0m02:33:38  Running with dbt=1.8.2\n",
      "\u001b[0m02:33:38  Registered adapter: duckdb=1.8.1\n",
      "\u001b[0m02:33:38  Found 11 models, 1 test, 1 operation, 407 macros\n",
      "\u001b[0m02:33:38  \n",
      "\u001b[0m02:33:38  \n",
      "\u001b[0m02:33:38  Running 1 on-run-start hook\n",
      "\u001b[0m02:33:38  1 of 1 START hook: mi_cfr_duckdb.on-run-start.0 ................................ [RUN]\n",
      "\u001b[0m02:33:38  1 of 1 OK hook: mi_cfr_duckdb.on-run-start.0 ................................... [\u001b[32mOK\u001b[0m in 0.00s]\n",
      "\u001b[0m02:33:38  \n",
      "\u001b[0m02:33:38  Concurrency: 1 threads (target='dev')\n",
      "\u001b[0m02:33:38  \n",
      "\u001b[0m02:33:38  1 of 1 START sql external model main.python_dbt_cli ............................ [RUN]\n",
      "\u001b[0m02:33:38  1 of 1 OK created sql external model main.python_dbt_cli ....................... [\u001b[32mOK\u001b[0m in 0.05s]\n",
      "\u001b[0m02:33:38  \n",
      "\u001b[0m02:33:38  Finished running 1 external model, 1 project hook in 0 hours 0 minutes and 0.12 seconds (0.12s).\n",
      "\u001b[0m02:33:38  \n",
      "\u001b[0m02:33:38  \u001b[32mCompleted successfully\u001b[0m\n",
      "\u001b[0m02:33:38  \n",
      "\u001b[0m02:33:38  Done. PASS=1 WARN=0 ERROR=0 SKIP=0 TOTAL=1\n"
     ]
    },
    {
     "data": {
      "text/plain": [
       "dbtRunnerResult(success=True, exception=None, result=RunExecutionResult(results=[RunResult(status=<RunStatus.Success: 'success'>, timing=[TimingInfo(name='compile', started_at=datetime.datetime(2024, 6, 8, 2, 33, 38, 479560), completed_at=datetime.datetime(2024, 6, 8, 2, 33, 38, 483307)), TimingInfo(name='execute', started_at=datetime.datetime(2024, 6, 8, 2, 33, 38, 483768), completed_at=datetime.datetime(2024, 6, 8, 2, 33, 38, 524884))], thread_id='Thread-35 (worker)', execution_time=0.046823978424072266, adapter_response={'_message': 'OK'}, message='OK', failures=None, node=ModelNode(database='memory', schema='main', name='python_dbt_cli', resource_type=<NodeType.Model: 'model'>, package_name='mi_cfr_duckdb', path='ml/python_dbt_cli.sql', original_file_path='models/ml/python_dbt_cli.sql', unique_id='model.mi_cfr_duckdb.python_dbt_cli', fqn=['mi_cfr_duckdb', 'ml', 'python_dbt_cli'], alias='python_dbt_cli', checksum=FileHash(name='sha256', checksum='5b19cc405021e77f4f14cc01de18cf1e792fb4330e7ea8b32223d7cc6a42652f'), config=ModelConfig(_extra={'location': '../data/ml/python_dbt_cli.parquet', 'format': 'parquet'}, enabled=True, alias=None, schema=None, database=None, tags=[], meta={}, group=None, materialized='external', incremental_strategy=None, persist_docs={}, post_hook=[], pre_hook=[], quoting={}, column_types={}, full_refresh=None, unique_key=None, on_schema_change='ignore', on_configuration_change=<OnConfigurationChangeOption.Apply: 'apply'>, grants={}, packages=[], docs=Docs(show=True, node_color=None), contract=ContractConfig(enforced=False, alias_types=True), access=<AccessType.Protected: 'protected'>), _event_status={}, tags=[], description='', columns={}, meta={}, group=None, docs=Docs(show=True, node_color=None), patch_path=None, build_path='target/run/mi_cfr_duckdb/models/ml/python_dbt_cli.sql', unrendered_config={'enabled': True, 'materialized': 'external', 'location': '../data/ml/python_dbt_cli.parquet', 'format': 'parquet'}, created_at=1717814018.3738148, config_call_dict={'materialized': 'external', 'location': '../data/ml/python_dbt_cli.parquet', 'format': 'parquet'}, relation_name='\"memory\".\"main\".\"python_dbt_cli\"', raw_code=\"{{ config(materialized='external', location='../data/ml/python_dbt_cli.parquet', format='parquet') }}\\n\\nWITH output AS (\\n    SELECT\\n        predicted_label,\\n        COUNT(*) AS COUNT\\n    FROM read_parquet('../data/ml/model_output.parquet', union_by_name=True)\\n    GROUP BY ALL\\n)\\nSELECT * FROM output\", language=<ModelLanguage.sql: 'sql'>, refs=[], sources=[], metrics=[], depends_on=DependsOn(macros=[], nodes=[]), compiled_path='target/compiled/mi_cfr_duckdb/models/ml/python_dbt_cli.sql', compiled=True, compiled_code=\"\\n\\nWITH output AS (\\n    SELECT\\n        predicted_label,\\n        COUNT(*) AS COUNT\\n    FROM read_parquet('../data/ml/model_output.parquet', union_by_name=True)\\n    GROUP BY ALL\\n)\\nSELECT * FROM output\", extra_ctes_injected=True, extra_ctes=[], _pre_injected_sql=None, contract=Contract(enforced=False, alias_types=True, checksum=None), access=<AccessType.Protected: 'protected'>, constraints=[], version=None, latest_version=None, deprecation_date=None, defer_relation=None), agate_table=None)], elapsed_time=0.1169130802154541, args={'vars': {}, 'write_json': True, 'use_colors': True, 'log_path': '/home/rdubwiley/dbt/dbt-tutorials/mi_cfr_duckdb_dbt/logs', 'require_resource_names_without_spaces': False, 'log_file_max_bytes': 10485760, 'indirect_selection': 'eager', 'log_format_file': 'debug', 'which': 'run', 'enable_legacy_logger': False, 'printer_width': 80, 'version_check': True, 'quiet': False, 'strict_mode': False, 'macro_debugging': False, 'cache_selected_only': False, 'source_freshness_run_project_hooks': False, 'log_level_file': 'debug', 'warn_error_options': {'include': [], 'exclude': []}, 'select': ('python_dbt_cli',), 'favor_state': False, 'partial_parse_file_diff': True, 'defer': False, 'send_anonymous_usage_stats': True, 'log_level': 'info', 'static_parser': True, 'invocation_command': 'dbt --f=/home/rdubwiley/.local/share/jupyter/runtime/kernel-v2-23711to0dMczj0Q4m.json', 'introspect': True, 'populate_cache': True, 'show_resource_report': False, 'log_format': 'default', 'project_dir': '/home/rdubwiley/dbt/dbt-tutorials/mi_cfr_duckdb_dbt', 'partial_parse': True, 'profiles_dir': '/home/rdubwiley/dbt/dbt-tutorials/mi_cfr_duckdb_dbt', 'use_colors_file': True, 'empty': False, 'require_explicit_package_overrides_for_builtin_materializations': True, 'print': True, 'exclude': ()}, generated_at=datetime.datetime(2024, 6, 8, 2, 33, 38, 536360)))"
      ]
     },
     "execution_count": 11,
     "metadata": {},
     "output_type": "execute_result"
    }
   ],
   "source": [
    "dbt.invoke(['run', '--model', 'python_dbt_cli'])"
   ]
  },
  {
   "cell_type": "code",
   "execution_count": 13,
   "metadata": {},
   "outputs": [
    {
     "data": {
      "text/plain": [
       "┌──────────────────────────┬───────┐\n",
       "│     predicted_label      │ COUNT │\n",
       "│         varchar          │ int64 │\n",
       "├──────────────────────────┼───────┤\n",
       "│ food                     │     2 │\n",
       "│ unknown                  │    49 │\n",
       "│ bank or credit card fees │     7 │\n",
       "│ paid media               │     7 │\n",
       "│ payroll                  │     2 │\n",
       "│ consulting               │     2 │\n",
       "│ contribution             │    31 │\n",
       "└──────────────────────────┴───────┘"
      ]
     },
     "execution_count": 13,
     "metadata": {},
     "output_type": "execute_result"
    }
   ],
   "source": [
    "duckdb.sql('''\n",
    "    FROM '../data/ml/python_dbt_cli.parquet'\n",
    "''')"
   ]
  },
  {
   "cell_type": "markdown",
   "metadata": {},
   "source": [
    "### Finally if we want to run everything we can do our usual run command"
   ]
  },
  {
   "cell_type": "code",
   "execution_count": 12,
   "metadata": {},
   "outputs": [
    {
     "name": "stdout",
     "output_type": "stream",
     "text": [
      "\u001b[0m02:36:39  Running with dbt=1.8.2\n",
      "\u001b[0m02:36:39  Registered adapter: duckdb=1.8.1\n",
      "\u001b[0m02:36:39  Unable to do partial parsing because a project config has changed\n",
      "\u001b[0m02:36:40  Found 9 models, 1 test, 1 operation, 407 macros\n",
      "\u001b[0m02:36:40  \n",
      "\u001b[0m02:36:40  \n",
      "\u001b[0m02:36:40  Running 1 on-run-start hook\n",
      "\u001b[0m02:36:40  1 of 1 START hook: mi_cfr_duckdb.on-run-start.0 ................................ [RUN]\n",
      "\u001b[0m02:36:40  1 of 1 OK hook: mi_cfr_duckdb.on-run-start.0 ................................... [\u001b[32mOK\u001b[0m in 0.00s]\n",
      "\u001b[0m02:36:40  \n",
      "\u001b[0m02:36:40  Concurrency: 1 threads (target='dev')\n",
      "\u001b[0m02:36:40  \n",
      "\u001b[0m02:36:40  1 of 9 START sql view model main.stg_contributions ............................. [RUN]\n",
      "\u001b[0m02:36:40  1 of 9 OK created sql view model main.stg_contributions ........................ [\u001b[32mOK\u001b[0m in 0.04s]\n",
      "\u001b[0m02:36:40  2 of 9 START sql external model main.stg_expenditures .......................... [RUN]\n",
      "\u001b[0m02:36:41  2 of 9 OK created sql external model main.stg_expenditures ..................... [\u001b[32mOK\u001b[0m in 0.75s]\n",
      "\u001b[0m02:36:41  3 of 9 START sql view model main.stg_receipts .................................. [RUN]\n",
      "\u001b[0m02:36:41  3 of 9 OK created sql view model main.stg_receipts ............................. [\u001b[32mOK\u001b[0m in 0.03s]\n",
      "\u001b[0m02:36:41  4 of 9 START sql external model main.udf_examples .............................. [RUN]\n",
      "\u001b[0m02:36:41  4 of 9 OK created sql external model main.udf_examples ......................... [\u001b[32mOK\u001b[0m in 0.05s]\n",
      "\u001b[0m02:36:41  5 of 9 START sql external model main.state_party_contributions ................. [RUN]\n",
      "\u001b[0m02:36:41  5 of 9 OK created sql external model main.state_party_contributions ............ [\u001b[32mOK\u001b[0m in 0.39s]\n",
      "\u001b[0m02:36:41  6 of 9 START sql view model main.implied_committee_party ....................... [RUN]\n",
      "\u001b[0m02:36:41  6 of 9 OK created sql view model main.implied_committee_party .................. [\u001b[32mOK\u001b[0m in 0.03s]\n",
      "\u001b[0m02:36:41  7 of 9 START sql external model main.committee_contributions_by_month .......... [RUN]\n",
      "\u001b[0m02:36:42  7 of 9 OK created sql external model main.committee_contributions_by_month ..... [\u001b[32mOK\u001b[0m in 0.74s]\n",
      "\u001b[0m02:36:42  8 of 9 START sql external model main.committee_expenditures_by_month ........... [RUN]\n",
      "\u001b[0m02:36:42  8 of 9 OK created sql external model main.committee_expenditures_by_month ...... [\u001b[32mOK\u001b[0m in 0.14s]\n",
      "\u001b[0m02:36:42  9 of 9 START sql external model main.committee_burn_by_month ................... [RUN]\n",
      "\u001b[0m02:36:42  9 of 9 OK created sql external model main.committee_burn_by_month .............. [\u001b[32mOK\u001b[0m in 0.08s]\n",
      "\u001b[0m02:36:42  \n",
      "\u001b[0m02:36:42  Finished running 3 view models, 6 external models, 1 project hook in 0 hours 0 minutes and 2.36 seconds (2.36s).\n",
      "\u001b[0m02:36:42  \n",
      "\u001b[0m02:36:42  \u001b[32mCompleted successfully\u001b[0m\n",
      "\u001b[0m02:36:42  \n",
      "\u001b[0m02:36:42  Done. PASS=9 WARN=0 ERROR=0 SKIP=0 TOTAL=9\n"
     ]
    },
    {
     "data": {
      "text/plain": [
       "dbtRunnerResult(success=True, exception=None, result=RunExecutionResult(results=[RunResult(status=<RunStatus.Success: 'success'>, timing=[TimingInfo(name='compile', started_at=datetime.datetime(2024, 6, 8, 2, 36, 40, 332700), completed_at=datetime.datetime(2024, 6, 8, 2, 36, 40, 336486)), TimingInfo(name='execute', started_at=datetime.datetime(2024, 6, 8, 2, 36, 40, 336864), completed_at=datetime.datetime(2024, 6, 8, 2, 36, 40, 371550))], thread_id='Thread-39 (worker)', execution_time=0.0405123233795166, adapter_response={'_message': 'OK'}, message='OK', failures=None, node=ModelNode(database='memory', schema='main', name='stg_contributions', resource_type=<NodeType.Model: 'model'>, package_name='mi_cfr_duckdb', path='staging/stg_contributions.sql', original_file_path='models/staging/stg_contributions.sql', unique_id='model.mi_cfr_duckdb.stg_contributions', fqn=['mi_cfr_duckdb', 'staging', 'stg_contributions'], alias='stg_contributions', checksum=FileHash(name='sha256', checksum='6e303b4a08b148b7c65e2fb15569eea60192c14c01ca4b27947f6f11f2550719'), config=ModelConfig(_extra={'location': '../data/staging/stg_contributions.parquet', 'format': 'parquet'}, enabled=True, alias=None, schema=None, database=None, tags=[], meta={}, group=None, materialized='view', incremental_strategy=None, persist_docs={}, post_hook=[], pre_hook=[], quoting={}, column_types={}, full_refresh=None, unique_key=None, on_schema_change='ignore', on_configuration_change=<OnConfigurationChangeOption.Apply: 'apply'>, grants={}, packages=[], docs=Docs(show=True, node_color=None), contract=ContractConfig(enforced=False, alias_types=True), access=<AccessType.Protected: 'protected'>), _event_status={}, tags=[], description='', columns={}, meta={}, group=None, docs=Docs(show=True, node_color=None), patch_path=None, build_path='target/run/mi_cfr_duckdb/models/staging/stg_contributions.sql', unrendered_config={'materialized': 'view', 'location': '../data/staging/stg_contributions.parquet', 'format': 'parquet'}, created_at=1717814200.186658, config_call_dict={'materialized': 'view', 'location': '../data/staging/stg_contributions.parquet', 'format': 'parquet'}, relation_name='\"memory\".\"main\".\"stg_contributions\"', raw_code=\"{{ config(materialized='view', location='../data/staging/stg_contributions.parquet', format='parquet') }}\\n\\nWITH raw_contributions AS (\\n    SELECT \\n        cfr_com_id AS cfr_committee_id,\\n        com_legal_name AS committee_legal_name,\\n        common_name AS committee_common_name,\\n        com_type AS committee_type,\\n        doc_stmnt_year AS doc_statement_year,\\n        doc_seq_no AS document_sequence_number,\\n        page_no AS page_number,\\n        contribution_id,\\n        CASE WHEN cont_detail_id=0 THEN NULL ELSE cont_detail_id END AS contribution_detail_id,\\n        try_strptime(received_date, '%m/%d/%Y')  AS contribution_received_date,\\n        contribtype AS contribution_type,\\n        f_name AS donor_first_name,\\n        l_name_or_org AS donor_last_name_or_org_name,\\n        occupation AS donor_occupation,\\n        employer AS employer,\\n        state as donor_state,\\n        city AS donor_city,\\n        zip AS donor_zip,\\n        address AS donor_address,\\n        ROUND(TRY_CAST(amount AS FLOAT), 2) AS contribution_amount,\\n        extra_desc AS donation_extra_description\\n    FROM read_parquet('../data/raw/*_mi_cfr_contributions.parquet', union_by_name=True)\\n),\\noutput AS (\\n    SELECT *,\\n        date_part('year', contribution_received_date) AS donation_received_year,\\n        date_part('month', contribution_received_date) AS donation_received_month,\\n        CONCAT(cfr_committee_id, doc_statement_year, document_sequence_number, page_number, contribution_id, contribution_detail_id) AS unique_line_identifier\\n    FROM raw_contributions \\n)\\nSELECT * FROM output\", language=<ModelLanguage.sql: 'sql'>, refs=[], sources=[], metrics=[], depends_on=DependsOn(macros=[], nodes=[]), compiled_path='target/compiled/mi_cfr_duckdb/models/staging/stg_contributions.sql', compiled=True, compiled_code=\"\\n\\nWITH raw_contributions AS (\\n    SELECT \\n        cfr_com_id AS cfr_committee_id,\\n        com_legal_name AS committee_legal_name,\\n        common_name AS committee_common_name,\\n        com_type AS committee_type,\\n        doc_stmnt_year AS doc_statement_year,\\n        doc_seq_no AS document_sequence_number,\\n        page_no AS page_number,\\n        contribution_id,\\n        CASE WHEN cont_detail_id=0 THEN NULL ELSE cont_detail_id END AS contribution_detail_id,\\n        try_strptime(received_date, '%m/%d/%Y')  AS contribution_received_date,\\n        contribtype AS contribution_type,\\n        f_name AS donor_first_name,\\n        l_name_or_org AS donor_last_name_or_org_name,\\n        occupation AS donor_occupation,\\n        employer AS employer,\\n        state as donor_state,\\n        city AS donor_city,\\n        zip AS donor_zip,\\n        address AS donor_address,\\n        ROUND(TRY_CAST(amount AS FLOAT), 2) AS contribution_amount,\\n        extra_desc AS donation_extra_description\\n    FROM read_parquet('../data/raw/*_mi_cfr_contributions.parquet', union_by_name=True)\\n),\\noutput AS (\\n    SELECT *,\\n        date_part('year', contribution_received_date) AS donation_received_year,\\n        date_part('month', contribution_received_date) AS donation_received_month,\\n        CONCAT(cfr_committee_id, doc_statement_year, document_sequence_number, page_number, contribution_id, contribution_detail_id) AS unique_line_identifier\\n    FROM raw_contributions \\n)\\nSELECT * FROM output\", extra_ctes_injected=True, extra_ctes=[], _pre_injected_sql=None, contract=Contract(enforced=False, alias_types=True, checksum=None), access=<AccessType.Protected: 'protected'>, constraints=[], version=None, latest_version=None, deprecation_date=None, defer_relation=None), agate_table=None), RunResult(status=<RunStatus.Success: 'success'>, timing=[TimingInfo(name='compile', started_at=datetime.datetime(2024, 6, 8, 2, 36, 40, 376859), completed_at=datetime.datetime(2024, 6, 8, 2, 36, 40, 380550)), TimingInfo(name='execute', started_at=datetime.datetime(2024, 6, 8, 2, 36, 40, 380947), completed_at=datetime.datetime(2024, 6, 8, 2, 36, 41, 123353))], thread_id='Thread-39 (worker)', execution_time=0.7478458881378174, adapter_response={'_message': 'OK'}, message='OK', failures=None, node=ModelNode(database='memory', schema='main', name='stg_expenditures', resource_type=<NodeType.Model: 'model'>, package_name='mi_cfr_duckdb', path='staging/stg_expenditures.sql', original_file_path='models/staging/stg_expenditures.sql', unique_id='model.mi_cfr_duckdb.stg_expenditures', fqn=['mi_cfr_duckdb', 'staging', 'stg_expenditures'], alias='stg_expenditures', checksum=FileHash(name='sha256', checksum='c587da197eab6514b3988d0bce5a153e6ef088970c5df2715d17c7c16e93c241'), config=ModelConfig(_extra={'location': '../data/staging/stg_expenditures.parquet', 'format': 'parquet'}, enabled=True, alias=None, schema=None, database=None, tags=[], meta={}, group=None, materialized='external', incremental_strategy=None, persist_docs={}, post_hook=[], pre_hook=[], quoting={}, column_types={}, full_refresh=None, unique_key=None, on_schema_change='ignore', on_configuration_change=<OnConfigurationChangeOption.Apply: 'apply'>, grants={}, packages=[], docs=Docs(show=True, node_color=None), contract=ContractConfig(enforced=False, alias_types=True), access=<AccessType.Protected: 'protected'>), _event_status={}, tags=[], description='', columns={}, meta={}, group=None, docs=Docs(show=True, node_color=None), patch_path=None, build_path='target/run/mi_cfr_duckdb/models/staging/stg_expenditures.sql', unrendered_config={'materialized': 'external', 'location': '../data/staging/stg_expenditures.parquet', 'format': 'parquet'}, created_at=1717814200.185125, config_call_dict={'materialized': 'external', 'location': '../data/staging/stg_expenditures.parquet', 'format': 'parquet'}, relation_name='\"memory\".\"main\".\"stg_expenditures\"', raw_code=\"{{ config(materialized='external', location='../data/staging/stg_expenditures.parquet', format='parquet') }}\\n\\nWITH raw_expenditures AS (\\n    SELECT \\n        cfr_com_id AS cfr_committee_id,\\n        com_legal_name AS committee_legal_name,\\n        common_name AS committee_common_name,\\n        com_type AS committee_type,\\n        doc_stmnt_year AS doc_statement_year,\\n        doc_seq_no AS document_sequence_number,\\n        page_no AS page_number,\\n        expenditure_type AS expenditure_type,\\n        expense_id AS expenditure_id,\\n        detail_id,\\n        exp_desc AS expenditure_description,\\n        purpose AS expenditure_purpose,\\n        extra_desc AS expenditure_extra_description,\\n        f_name AS expenditure_first_name,\\n        lname_or_org AS expenditure_last_name_or_org,\\n        address AS expenditure_address,\\n        city AS expenditure_city,\\n        state AS expenditure_state,\\n        zip AS expenditure_zip,\\n        try_strptime(exp_date, '%m/%d/%Y')AS expenditure_date,\\n        CASE WHEN TRY_CAST(amount AS FLOAT) IS NULL THEN NULL ELSE ROUND(TRY_CAST(amount AS FLOAT), 2) END AS expenditure_amount\\n    FROM read_parquet('../data/raw/*_mi_cfr_expenditures.parquet', union_by_name=True)\\n),\\noutput AS (\\n    SELECT *,\\n    date_part('year', expenditure_date) AS expenditure_year,\\n    date_part('month', expenditure_date) AS expenditure_month,\\n    FROM raw_expenditures\\n)\\nSELECT * FROM output\", language=<ModelLanguage.sql: 'sql'>, refs=[], sources=[], metrics=[], depends_on=DependsOn(macros=[], nodes=[]), compiled_path='target/compiled/mi_cfr_duckdb/models/staging/stg_expenditures.sql', compiled=True, compiled_code=\"\\n\\nWITH raw_expenditures AS (\\n    SELECT \\n        cfr_com_id AS cfr_committee_id,\\n        com_legal_name AS committee_legal_name,\\n        common_name AS committee_common_name,\\n        com_type AS committee_type,\\n        doc_stmnt_year AS doc_statement_year,\\n        doc_seq_no AS document_sequence_number,\\n        page_no AS page_number,\\n        expenditure_type AS expenditure_type,\\n        expense_id AS expenditure_id,\\n        detail_id,\\n        exp_desc AS expenditure_description,\\n        purpose AS expenditure_purpose,\\n        extra_desc AS expenditure_extra_description,\\n        f_name AS expenditure_first_name,\\n        lname_or_org AS expenditure_last_name_or_org,\\n        address AS expenditure_address,\\n        city AS expenditure_city,\\n        state AS expenditure_state,\\n        zip AS expenditure_zip,\\n        try_strptime(exp_date, '%m/%d/%Y')AS expenditure_date,\\n        CASE WHEN TRY_CAST(amount AS FLOAT) IS NULL THEN NULL ELSE ROUND(TRY_CAST(amount AS FLOAT), 2) END AS expenditure_amount\\n    FROM read_parquet('../data/raw/*_mi_cfr_expenditures.parquet', union_by_name=True)\\n),\\noutput AS (\\n    SELECT *,\\n    date_part('year', expenditure_date) AS expenditure_year,\\n    date_part('month', expenditure_date) AS expenditure_month,\\n    FROM raw_expenditures\\n)\\nSELECT * FROM output\", extra_ctes_injected=True, extra_ctes=[], _pre_injected_sql=None, contract=Contract(enforced=False, alias_types=True, checksum=None), access=<AccessType.Protected: 'protected'>, constraints=[], version=None, latest_version=None, deprecation_date=None, defer_relation=None), agate_table=None), RunResult(status=<RunStatus.Success: 'success'>, timing=[TimingInfo(name='compile', started_at=datetime.datetime(2024, 6, 8, 2, 36, 41, 128752), completed_at=datetime.datetime(2024, 6, 8, 2, 36, 41, 132083)), TimingInfo(name='execute', started_at=datetime.datetime(2024, 6, 8, 2, 36, 41, 132515), completed_at=datetime.datetime(2024, 6, 8, 2, 36, 41, 155905))], thread_id='Thread-39 (worker)', execution_time=0.02861618995666504, adapter_response={'_message': 'OK'}, message='OK', failures=None, node=ModelNode(database='memory', schema='main', name='stg_receipts', resource_type=<NodeType.Model: 'model'>, package_name='mi_cfr_duckdb', path='staging/stg_receipts.sql', original_file_path='models/staging/stg_receipts.sql', unique_id='model.mi_cfr_duckdb.stg_receipts', fqn=['mi_cfr_duckdb', 'staging', 'stg_receipts'], alias='stg_receipts', checksum=FileHash(name='sha256', checksum='9fe74877d1fa674f58917bb0b0a1f26c0ea1422da7e496d92178f37b57057d5f'), config=ModelConfig(_extra={'location': '../data/staging/stg_receipts.parquet', 'format': 'parquet'}, enabled=True, alias=None, schema=None, database=None, tags=[], meta={}, group=None, materialized='view', incremental_strategy=None, persist_docs={}, post_hook=[], pre_hook=[], quoting={}, column_types={}, full_refresh=None, unique_key=None, on_schema_change='ignore', on_configuration_change=<OnConfigurationChangeOption.Apply: 'apply'>, grants={}, packages=[], docs=Docs(show=True, node_color=None), contract=ContractConfig(enforced=False, alias_types=True), access=<AccessType.Protected: 'protected'>), _event_status={}, tags=[], description='', columns={}, meta={}, group=None, docs=Docs(show=True, node_color=None), patch_path=None, build_path='target/run/mi_cfr_duckdb/models/staging/stg_receipts.sql', unrendered_config={'materialized': 'view', 'location': '../data/staging/stg_receipts.parquet', 'format': 'parquet'}, created_at=1717814200.1879046, config_call_dict={'materialized': 'view', 'location': '../data/staging/stg_receipts.parquet', 'format': 'parquet'}, relation_name='\"memory\".\"main\".\"stg_receipts\"', raw_code=\"{{ config(materialized='view', location='../data/staging/stg_receipts.parquet', format='parquet') }}\\n\\nWITH raw_receipts AS (\\n    SELECT *\\n    FROM read_parquet('../data/raw/*_mi_cfr_receipts.parquet', union_by_name=True)\\n),\\noutput AS (\\n    SELECT *\\n    FROM raw_receipts\\n)\\nSELECT * FROM output\", language=<ModelLanguage.sql: 'sql'>, refs=[], sources=[], metrics=[], depends_on=DependsOn(macros=[], nodes=[]), compiled_path='target/compiled/mi_cfr_duckdb/models/staging/stg_receipts.sql', compiled=True, compiled_code=\"\\n\\nWITH raw_receipts AS (\\n    SELECT *\\n    FROM read_parquet('../data/raw/*_mi_cfr_receipts.parquet', union_by_name=True)\\n),\\noutput AS (\\n    SELECT *\\n    FROM raw_receipts\\n)\\nSELECT * FROM output\", extra_ctes_injected=True, extra_ctes=[], _pre_injected_sql=None, contract=Contract(enforced=False, alias_types=True, checksum=None), access=<AccessType.Protected: 'protected'>, constraints=[], version=None, latest_version=None, deprecation_date=None, defer_relation=None), agate_table=None), RunResult(status=<RunStatus.Success: 'success'>, timing=[TimingInfo(name='compile', started_at=datetime.datetime(2024, 6, 8, 2, 36, 41, 161813), completed_at=datetime.datetime(2024, 6, 8, 2, 36, 41, 165865)), TimingInfo(name='execute', started_at=datetime.datetime(2024, 6, 8, 2, 36, 41, 166267), completed_at=datetime.datetime(2024, 6, 8, 2, 36, 41, 211175))], thread_id='Thread-39 (worker)', execution_time=0.050798654556274414, adapter_response={'_message': 'OK'}, message='OK', failures=None, node=ModelNode(database='memory', schema='main', name='udf_examples', resource_type=<NodeType.Model: 'model'>, package_name='mi_cfr_duckdb', path='mart/udf_examples.sql', original_file_path='models/mart/udf_examples.sql', unique_id='model.mi_cfr_duckdb.udf_examples', fqn=['mi_cfr_duckdb', 'mart', 'udf_examples'], alias='udf_examples', checksum=FileHash(name='sha256', checksum='50e4bda9c059f0190e53bd9cb7b8951fb068d754a0193d968f2c859ff971cc69'), config=ModelConfig(_extra={'location': '../data/mart/udf_examples.parquet', 'format': 'parquet'}, enabled=True, alias=None, schema=None, database=None, tags=[], meta={}, group=None, materialized='external', incremental_strategy=None, persist_docs={}, post_hook=[], pre_hook=[], quoting={}, column_types={}, full_refresh=None, unique_key=None, on_schema_change='ignore', on_configuration_change=<OnConfigurationChangeOption.Apply: 'apply'>, grants={}, packages=[], docs=Docs(show=True, node_color=None), contract=ContractConfig(enforced=False, alias_types=True), access=<AccessType.Protected: 'protected'>), _event_status={}, tags=[], description='', columns={}, meta={}, group=None, docs=Docs(show=True, node_color=None), patch_path=None, build_path='target/run/mi_cfr_duckdb/models/mart/udf_examples.sql', unrendered_config={'materialized': 'external', 'location': '../data/mart/udf_examples.parquet', 'format': 'parquet'}, created_at=1717814200.1703956, config_call_dict={'materialized': 'external', 'location': '../data/mart/udf_examples.parquet', 'format': 'parquet'}, relation_name='\"memory\".\"main\".\"udf_examples\"', raw_code=\"{{ config(materialized='external', location='../data/mart/udf_examples.parquet', format='parquet') }}\\n\\nSELECT \\n    return_hello_array() AS 'hello', \\n    --One indexed blah\\n    (return_hello_array())[1] AS 'hello_indexed', \\n    return_numpy_one() AS 'numpy_one', \\n    get_substring('hello', 3, 4) AS 'substring',\\n    pydantic_example() AS 'pydantic_example_extract',\\n    json_extract(pydantic_example(), '$.city') AS 'pydantic_example_extract'\", language=<ModelLanguage.sql: 'sql'>, refs=[], sources=[], metrics=[], depends_on=DependsOn(macros=[], nodes=[]), compiled_path='target/compiled/mi_cfr_duckdb/models/mart/udf_examples.sql', compiled=True, compiled_code=\"\\n\\nSELECT \\n    return_hello_array() AS 'hello', \\n    --One indexed blah\\n    (return_hello_array())[1] AS 'hello_indexed', \\n    return_numpy_one() AS 'numpy_one', \\n    get_substring('hello', 3, 4) AS 'substring',\\n    pydantic_example() AS 'pydantic_example_extract',\\n    json_extract(pydantic_example(), '$.city') AS 'pydantic_example_extract'\", extra_ctes_injected=True, extra_ctes=[], _pre_injected_sql=None, contract=Contract(enforced=False, alias_types=True, checksum=None), access=<AccessType.Protected: 'protected'>, constraints=[], version=None, latest_version=None, deprecation_date=None, defer_relation=None), agate_table=None), RunResult(status=<RunStatus.Success: 'success'>, timing=[TimingInfo(name='compile', started_at=datetime.datetime(2024, 6, 8, 2, 36, 41, 216428), completed_at=datetime.datetime(2024, 6, 8, 2, 36, 41, 219629)), TimingInfo(name='execute', started_at=datetime.datetime(2024, 6, 8, 2, 36, 41, 220150), completed_at=datetime.datetime(2024, 6, 8, 2, 36, 41, 607467))], thread_id='Thread-39 (worker)', execution_time=0.3927178382873535, adapter_response={'_message': 'OK'}, message='OK', failures=None, node=ModelNode(database='memory', schema='main', name='state_party_contributions', resource_type=<NodeType.Model: 'model'>, package_name='mi_cfr_duckdb', path='mart/state_party_contributions.sql', original_file_path='models/mart/state_party_contributions.sql', unique_id='model.mi_cfr_duckdb.state_party_contributions', fqn=['mi_cfr_duckdb', 'mart', 'state_party_contributions'], alias='state_party_contributions', checksum=FileHash(name='sha256', checksum='dbadbb9069f846972a548b0534271e599697fe1f6b18c30d8af630f6e8b10f31'), config=ModelConfig(_extra={'location': '../data/mart/state_party_contributions.parquet', 'format': 'parquet'}, enabled=True, alias=None, schema=None, database=None, tags=[], meta={}, group=None, materialized='external', incremental_strategy=None, persist_docs={}, post_hook=[], pre_hook=[], quoting={}, column_types={}, full_refresh=None, unique_key=None, on_schema_change='ignore', on_configuration_change=<OnConfigurationChangeOption.Apply: 'apply'>, grants={}, packages=[], docs=Docs(show=True, node_color=None), contract=ContractConfig(enforced=False, alias_types=True), access=<AccessType.Protected: 'protected'>), _event_status={}, tags=[], description='', columns={}, meta={}, group=None, docs=Docs(show=True, node_color=None), patch_path=None, build_path='target/run/mi_cfr_duckdb/models/mart/state_party_contributions.sql', unrendered_config={'materialized': 'external', 'location': '../data/mart/state_party_contributions.parquet', 'format': 'parquet'}, created_at=1717814200.17768, config_call_dict={'materialized': 'external', 'location': '../data/mart/state_party_contributions.parquet', 'format': 'parquet'}, relation_name='\"memory\".\"main\".\"state_party_contributions\"', raw_code=\"{{ config(materialized='external', location='../data/mart/state_party_contributions.parquet', format='parquet') }}\\n\\nWITH contributions AS (\\n    SELECT\\n        cfr_committee_id,\\n        CASE \\n            WHEN cfr_committee_id=502755 THEN 'House Democratic Fund' \\n            WHEN cfr_committee_id=436 THEN 'House Republican Fund' \\n            WHEN cfr_committee_id=503510 THEN 'Senate Democratic Fund'\\n            WHEN cfr_committee_id=2399 THEN 'Senate Republican Fund'\\n        END AS organization,\\n        CASE \\n            WHEN cfr_committee_id IN (502755, 436) THEN 'House'\\n            WHEN cfr_committee_id IN (503510, 2399) THEN 'Senate'\\n        END AS branch,\\n        CASE \\n            WHEN cfr_committee_id IN (502755, 503510) THEN 'Democratic'\\n            WHEN cfr_committee_id IN (436, 2399) THEN 'Republican'\\n        END AS party,\\n        strftime(contribution_received_date, '%Y-%m-%d') AS contribution_received_date,\\n        donation_received_year,\\n        donation_received_month,\\n        SUM(contribution_amount) AS contribution_amount\\n    FROM {{ ref('stg_contributions') }}\\n    WHERE contribution_type != 'LOAN FROM A PERSON'\\n    GROUP BY ALL\\n\\n),\\noutput AS (\\n    SELECT\\n        organization,\\n        party,\\n        branch,\\n        contribution_received_date,\\n        donation_received_year,\\n        donation_received_month,\\n        contribution_amount AS total_raised,\\n        SUM(contribution_amount) OVER (PARTITION BY organization ORDER BY contribution_received_date) AS total_raised_cumulative,\\n        SUM(contribution_amount) OVER (PARTITION BY organization, donation_received_year ORDER BY contribution_received_date) AS total_raised_cumulative_year\\n    FROM contributions\\n    WHERE cfr_committee_id IN (502755, 436, 503510, 2399)\\n    GROUP BY organization, party, branch, contribution_received_date, contribution_amount, donation_received_month, donation_received_year\\n)\\nSELECT * FROM output\", language=<ModelLanguage.sql: 'sql'>, refs=[RefArgs(name='stg_contributions', package=None, version=None)], sources=[], metrics=[], depends_on=DependsOn(macros=[], nodes=['model.mi_cfr_duckdb.stg_contributions']), compiled_path='target/compiled/mi_cfr_duckdb/models/mart/state_party_contributions.sql', compiled=True, compiled_code='\\n\\nWITH contributions AS (\\n    SELECT\\n        cfr_committee_id,\\n        CASE \\n            WHEN cfr_committee_id=502755 THEN \\'House Democratic Fund\\' \\n            WHEN cfr_committee_id=436 THEN \\'House Republican Fund\\' \\n            WHEN cfr_committee_id=503510 THEN \\'Senate Democratic Fund\\'\\n            WHEN cfr_committee_id=2399 THEN \\'Senate Republican Fund\\'\\n        END AS organization,\\n        CASE \\n            WHEN cfr_committee_id IN (502755, 436) THEN \\'House\\'\\n            WHEN cfr_committee_id IN (503510, 2399) THEN \\'Senate\\'\\n        END AS branch,\\n        CASE \\n            WHEN cfr_committee_id IN (502755, 503510) THEN \\'Democratic\\'\\n            WHEN cfr_committee_id IN (436, 2399) THEN \\'Republican\\'\\n        END AS party,\\n        strftime(contribution_received_date, \\'%Y-%m-%d\\') AS contribution_received_date,\\n        donation_received_year,\\n        donation_received_month,\\n        SUM(contribution_amount) AS contribution_amount\\n    FROM \"memory\".\"main\".\"stg_contributions\"\\n    WHERE contribution_type != \\'LOAN FROM A PERSON\\'\\n    GROUP BY ALL\\n\\n),\\noutput AS (\\n    SELECT\\n        organization,\\n        party,\\n        branch,\\n        contribution_received_date,\\n        donation_received_year,\\n        donation_received_month,\\n        contribution_amount AS total_raised,\\n        SUM(contribution_amount) OVER (PARTITION BY organization ORDER BY contribution_received_date) AS total_raised_cumulative,\\n        SUM(contribution_amount) OVER (PARTITION BY organization, donation_received_year ORDER BY contribution_received_date) AS total_raised_cumulative_year\\n    FROM contributions\\n    WHERE cfr_committee_id IN (502755, 436, 503510, 2399)\\n    GROUP BY organization, party, branch, contribution_received_date, contribution_amount, donation_received_month, donation_received_year\\n)\\nSELECT * FROM output', extra_ctes_injected=True, extra_ctes=[], _pre_injected_sql=None, contract=Contract(enforced=False, alias_types=True, checksum=None), access=<AccessType.Protected: 'protected'>, constraints=[], version=None, latest_version=None, deprecation_date=None, defer_relation=None), agate_table=None), RunResult(status=<RunStatus.Success: 'success'>, timing=[TimingInfo(name='compile', started_at=datetime.datetime(2024, 6, 8, 2, 36, 41, 614107), completed_at=datetime.datetime(2024, 6, 8, 2, 36, 41, 618471)), TimingInfo(name='execute', started_at=datetime.datetime(2024, 6, 8, 2, 36, 41, 618820), completed_at=datetime.datetime(2024, 6, 8, 2, 36, 41, 639920))], thread_id='Thread-39 (worker)', execution_time=0.027188539505004883, adapter_response={'_message': 'OK'}, message='OK', failures=None, node=ModelNode(database='memory', schema='main', name='implied_committee_party', resource_type=<NodeType.Model: 'model'>, package_name='mi_cfr_duckdb', path='staging/implied_committee_party.sql', original_file_path='models/staging/implied_committee_party.sql', unique_id='model.mi_cfr_duckdb.implied_committee_party', fqn=['mi_cfr_duckdb', 'staging', 'implied_committee_party'], alias='implied_committee_party', checksum=FileHash(name='sha256', checksum='0b0455219f74d2928e134bed1edc44ece4978f2ddda9a9d766eefc36312bcff0'), config=ModelConfig(_extra={'location': '../data/staging/implied_committee_party.parquet', 'format': 'parquet'}, enabled=True, alias=None, schema=None, database=None, tags=[], meta={}, group=None, materialized='view', incremental_strategy=None, persist_docs={}, post_hook=[], pre_hook=[], quoting={}, column_types={}, full_refresh=None, unique_key=None, on_schema_change='ignore', on_configuration_change=<OnConfigurationChangeOption.Apply: 'apply'>, grants={}, packages=[], docs=Docs(show=True, node_color=None), contract=ContractConfig(enforced=False, alias_types=True), access=<AccessType.Protected: 'protected'>), _event_status={}, tags=[], description='', columns={}, meta={}, group=None, docs=Docs(show=True, node_color=None), patch_path=None, build_path='target/run/mi_cfr_duckdb/models/staging/implied_committee_party.sql', unrendered_config={'materialized': 'view', 'location': '../data/staging/implied_committee_party.parquet', 'format': 'parquet'}, created_at=1717814200.1890013, config_call_dict={'materialized': 'view', 'location': '../data/staging/implied_committee_party.parquet', 'format': 'parquet'}, relation_name='\"memory\".\"main\".\"implied_committee_party\"', raw_code=\"{{ config(materialized='view', location='../data/staging/implied_committee_party.parquet', format='parquet') }}\\n\\nWITH republicans AS (\\n    SELECT \\n        DISTINCT cfr_committee_id,\\n        'R' AS implied_party\\n    FROM {{ ref('stg_expenditures') }} \\n    WHERE expenditure_last_name_or_org LIKE '%WINRED%'\\n),\\ndemocrats AS (\\n    SELECT \\n        DISTINCT cfr_committee_id,\\n        'D' AS implied_party\\n    FROM {{ ref('stg_expenditures') }} \\n    WHERE expenditure_last_name_or_org LIKE '%ACT BLUE%' OR expenditure_last_name_or_org LIKE '%ACTBLUE%'\\n),\\noutput AS (\\n    SELECT\\n        cfr_committee_id,\\n        implied_party\\n    FROM republicans\\n    UNION ALL\\n    SELECT\\n        cfr_committee_id,\\n        implied_party\\n    FROM democrats\\n)\\nSELECT * FROM output\", language=<ModelLanguage.sql: 'sql'>, refs=[RefArgs(name='stg_expenditures', package=None, version=None), RefArgs(name='stg_expenditures', package=None, version=None)], sources=[], metrics=[], depends_on=DependsOn(macros=[], nodes=['model.mi_cfr_duckdb.stg_expenditures']), compiled_path='target/compiled/mi_cfr_duckdb/models/staging/implied_committee_party.sql', compiled=True, compiled_code='\\n\\nWITH republicans AS (\\n    SELECT \\n        DISTINCT cfr_committee_id,\\n        \\'R\\' AS implied_party\\n    FROM \"memory\".\"main\".\"stg_expenditures\" \\n    WHERE expenditure_last_name_or_org LIKE \\'%WINRED%\\'\\n),\\ndemocrats AS (\\n    SELECT \\n        DISTINCT cfr_committee_id,\\n        \\'D\\' AS implied_party\\n    FROM \"memory\".\"main\".\"stg_expenditures\" \\n    WHERE expenditure_last_name_or_org LIKE \\'%ACT BLUE%\\' OR expenditure_last_name_or_org LIKE \\'%ACTBLUE%\\'\\n),\\noutput AS (\\n    SELECT\\n        cfr_committee_id,\\n        implied_party\\n    FROM republicans\\n    UNION ALL\\n    SELECT\\n        cfr_committee_id,\\n        implied_party\\n    FROM democrats\\n)\\nSELECT * FROM output', extra_ctes_injected=True, extra_ctes=[], _pre_injected_sql=None, contract=Contract(enforced=False, alias_types=True, checksum=None), access=<AccessType.Protected: 'protected'>, constraints=[], version=None, latest_version=None, deprecation_date=None, defer_relation=None), agate_table=None), RunResult(status=<RunStatus.Success: 'success'>, timing=[TimingInfo(name='compile', started_at=datetime.datetime(2024, 6, 8, 2, 36, 41, 646202), completed_at=datetime.datetime(2024, 6, 8, 2, 36, 41, 651904)), TimingInfo(name='execute', started_at=datetime.datetime(2024, 6, 8, 2, 36, 41, 652506), completed_at=datetime.datetime(2024, 6, 8, 2, 36, 42, 384181))], thread_id='Thread-39 (worker)', execution_time=0.7394828796386719, adapter_response={'_message': 'OK'}, message='OK', failures=None, node=ModelNode(database='memory', schema='main', name='committee_contributions_by_month', resource_type=<NodeType.Model: 'model'>, package_name='mi_cfr_duckdb', path='mart/committee_contributions_by_month.sql', original_file_path='models/mart/committee_contributions_by_month.sql', unique_id='model.mi_cfr_duckdb.committee_contributions_by_month', fqn=['mi_cfr_duckdb', 'mart', 'committee_contributions_by_month'], alias='committee_contributions_by_month', checksum=FileHash(name='sha256', checksum='42c076302c491ad072c0e1aadaf4c09d9f9b65ca22619bd01b23ab60405608e2'), config=ModelConfig(_extra={'location': '../data/mart/committee_contributions_by_month.parquet', 'format': 'parquet'}, enabled=True, alias=None, schema=None, database=None, tags=[], meta={}, group=None, materialized='external', incremental_strategy=None, persist_docs={}, post_hook=[], pre_hook=[], quoting={}, column_types={}, full_refresh=None, unique_key=None, on_schema_change='ignore', on_configuration_change=<OnConfigurationChangeOption.Apply: 'apply'>, grants={}, packages=[], docs=Docs(show=True, node_color=None), contract=ContractConfig(enforced=False, alias_types=True), access=<AccessType.Protected: 'protected'>), _event_status={}, tags=[], description='', columns={}, meta={}, group=None, docs=Docs(show=True, node_color=None), patch_path=None, build_path='target/run/mi_cfr_duckdb/models/mart/committee_contributions_by_month.sql', unrendered_config={'materialized': 'external', 'location': '../data/mart/committee_contributions_by_month.parquet', 'format': 'parquet'}, created_at=1717814200.1674619, config_call_dict={'materialized': 'external', 'location': '../data/mart/committee_contributions_by_month.parquet', 'format': 'parquet'}, relation_name='\"memory\".\"main\".\"committee_contributions_by_month\"', raw_code='{{ config(materialized=\\'external\\', location=\\'../data/mart/committee_contributions_by_month.parquet\\', format=\\'parquet\\') }}\\n\\nWITH contributions AS (\\n    SELECT \\n        cfr_committee_id,\\n        committee_type,\\n        committee_common_name,\\n        contribution_id,\\n        donation_received_year,\\n        donation_received_month,\\n        contribution_amount\\n    FROM {{ ref(\"stg_contributions\")}}\\n),\\nparty_lookup AS (\\n    SELECT\\n        cfr_committee_id,\\n        implied_party\\n    FROM {{ ref(\"implied_committee_party\") }}\\n),\\noutput AS (\\n    SELECT \\n        contributions.cfr_committee_id,\\n        implied_party,\\n        committee_type,\\n        committee_common_name,\\n        donation_received_year,\\n        donation_received_month,\\n        ROUND(SUM(contribution_amount),2) AS total_raised,\\n        COUNT(DISTINCT contribution_id) AS total_contributions,\\n        ROUND(ROUND(SUM(contribution_amount),2)/COUNT(DISTINCT contribution_id),2) AS average_contribution\\n    FROM contributions\\n    LEFT JOIN party_lookup\\n    ON contributions.cfr_committee_id = party_lookup.cfr_committee_id\\n    GROUP BY ALL\\n)\\nSELECT * FROM output', language=<ModelLanguage.sql: 'sql'>, refs=[RefArgs(name='stg_contributions', package=None, version=None), RefArgs(name='implied_committee_party', package=None, version=None)], sources=[], metrics=[], depends_on=DependsOn(macros=[], nodes=['model.mi_cfr_duckdb.stg_contributions', 'model.mi_cfr_duckdb.implied_committee_party']), compiled_path='target/compiled/mi_cfr_duckdb/models/mart/committee_contributions_by_month.sql', compiled=True, compiled_code='\\n\\nWITH contributions AS (\\n    SELECT \\n        cfr_committee_id,\\n        committee_type,\\n        committee_common_name,\\n        contribution_id,\\n        donation_received_year,\\n        donation_received_month,\\n        contribution_amount\\n    FROM \"memory\".\"main\".\"stg_contributions\"\\n),\\nparty_lookup AS (\\n    SELECT\\n        cfr_committee_id,\\n        implied_party\\n    FROM \"memory\".\"main\".\"implied_committee_party\"\\n),\\noutput AS (\\n    SELECT \\n        contributions.cfr_committee_id,\\n        implied_party,\\n        committee_type,\\n        committee_common_name,\\n        donation_received_year,\\n        donation_received_month,\\n        ROUND(SUM(contribution_amount),2) AS total_raised,\\n        COUNT(DISTINCT contribution_id) AS total_contributions,\\n        ROUND(ROUND(SUM(contribution_amount),2)/COUNT(DISTINCT contribution_id),2) AS average_contribution\\n    FROM contributions\\n    LEFT JOIN party_lookup\\n    ON contributions.cfr_committee_id = party_lookup.cfr_committee_id\\n    GROUP BY ALL\\n)\\nSELECT * FROM output', extra_ctes_injected=True, extra_ctes=[], _pre_injected_sql=None, contract=Contract(enforced=False, alias_types=True, checksum=None), access=<AccessType.Protected: 'protected'>, constraints=[], version=None, latest_version=None, deprecation_date=None, defer_relation=None), agate_table=None), RunResult(status=<RunStatus.Success: 'success'>, timing=[TimingInfo(name='compile', started_at=datetime.datetime(2024, 6, 8, 2, 36, 42, 388906), completed_at=datetime.datetime(2024, 6, 8, 2, 36, 42, 391902)), TimingInfo(name='execute', started_at=datetime.datetime(2024, 6, 8, 2, 36, 42, 392330), completed_at=datetime.datetime(2024, 6, 8, 2, 36, 42, 528958))], thread_id='Thread-39 (worker)', execution_time=0.14153027534484863, adapter_response={'_message': 'OK'}, message='OK', failures=None, node=ModelNode(database='memory', schema='main', name='committee_expenditures_by_month', resource_type=<NodeType.Model: 'model'>, package_name='mi_cfr_duckdb', path='mart/committee_expenditures_by_month.sql', original_file_path='models/mart/committee_expenditures_by_month.sql', unique_id='model.mi_cfr_duckdb.committee_expenditures_by_month', fqn=['mi_cfr_duckdb', 'mart', 'committee_expenditures_by_month'], alias='committee_expenditures_by_month', checksum=FileHash(name='sha256', checksum='81d7a83c7bd092a6c4b1777832054f566de09bb77b53b53f3fa339ca370281ba'), config=ModelConfig(_extra={'location': '../data/mart/committee_expenditures_by_month.parquet', 'format': 'parquet'}, enabled=True, alias=None, schema=None, database=None, tags=[], meta={}, group=None, materialized='external', incremental_strategy=None, persist_docs={}, post_hook=[], pre_hook=[], quoting={}, column_types={}, full_refresh=None, unique_key=None, on_schema_change='ignore', on_configuration_change=<OnConfigurationChangeOption.Apply: 'apply'>, grants={}, packages=[], docs=Docs(show=True, node_color=None), contract=ContractConfig(enforced=False, alias_types=True), access=<AccessType.Protected: 'protected'>), _event_status={}, tags=[], description='', columns={}, meta={}, group=None, docs=Docs(show=True, node_color=None), patch_path=None, build_path='target/run/mi_cfr_duckdb/models/mart/committee_expenditures_by_month.sql', unrendered_config={'materialized': 'external', 'location': '../data/mart/committee_expenditures_by_month.parquet', 'format': 'parquet'}, created_at=1717814200.179553, config_call_dict={'materialized': 'external', 'location': '../data/mart/committee_expenditures_by_month.parquet', 'format': 'parquet'}, relation_name='\"memory\".\"main\".\"committee_expenditures_by_month\"', raw_code='{{ config(materialized=\\'external\\', location=\\'../data/mart/committee_expenditures_by_month.parquet\\', format=\\'parquet\\') }}\\n\\nWITH expenditures AS (\\n    SELECT \\n        cfr_committee_id,\\n        committee_type,\\n        committee_common_name,\\n        expenditure_id,\\n        expenditure_year,\\n        expenditure_month,\\n        expenditure_amount\\n    FROM {{ ref(\"stg_expenditures\")}}\\n),\\nparty_lookup AS (\\n    SELECT\\n        cfr_committee_id,\\n        implied_party\\n    FROM {{ ref(\"implied_committee_party\") }}\\n),\\noutput AS (\\n    SELECT \\n        expenditures.cfr_committee_id,\\n        implied_party,\\n        committee_type,\\n        committee_common_name,\\n        expenditure_year,\\n        expenditure_month,\\n        ROUND(SUM(expenditure_amount),2) AS total_spent,\\n        COUNT(DISTINCT expenditure_id) AS total_expenditures,\\n        MAX(expenditure_amount) AS max_expenditure\\n    FROM expenditures\\n    LEFT JOIN party_lookup\\n    ON expenditures.cfr_committee_id = party_lookup.cfr_committee_id\\n    GROUP BY ALL\\n)\\nSELECT * FROM output', language=<ModelLanguage.sql: 'sql'>, refs=[RefArgs(name='stg_expenditures', package=None, version=None), RefArgs(name='implied_committee_party', package=None, version=None)], sources=[], metrics=[], depends_on=DependsOn(macros=[], nodes=['model.mi_cfr_duckdb.stg_expenditures', 'model.mi_cfr_duckdb.implied_committee_party']), compiled_path='target/compiled/mi_cfr_duckdb/models/mart/committee_expenditures_by_month.sql', compiled=True, compiled_code='\\n\\nWITH expenditures AS (\\n    SELECT \\n        cfr_committee_id,\\n        committee_type,\\n        committee_common_name,\\n        expenditure_id,\\n        expenditure_year,\\n        expenditure_month,\\n        expenditure_amount\\n    FROM \"memory\".\"main\".\"stg_expenditures\"\\n),\\nparty_lookup AS (\\n    SELECT\\n        cfr_committee_id,\\n        implied_party\\n    FROM \"memory\".\"main\".\"implied_committee_party\"\\n),\\noutput AS (\\n    SELECT \\n        expenditures.cfr_committee_id,\\n        implied_party,\\n        committee_type,\\n        committee_common_name,\\n        expenditure_year,\\n        expenditure_month,\\n        ROUND(SUM(expenditure_amount),2) AS total_spent,\\n        COUNT(DISTINCT expenditure_id) AS total_expenditures,\\n        MAX(expenditure_amount) AS max_expenditure\\n    FROM expenditures\\n    LEFT JOIN party_lookup\\n    ON expenditures.cfr_committee_id = party_lookup.cfr_committee_id\\n    GROUP BY ALL\\n)\\nSELECT * FROM output', extra_ctes_injected=True, extra_ctes=[], _pre_injected_sql=None, contract=Contract(enforced=False, alias_types=True, checksum=None), access=<AccessType.Protected: 'protected'>, constraints=[], version=None, latest_version=None, deprecation_date=None, defer_relation=None), agate_table=None), RunResult(status=<RunStatus.Success: 'success'>, timing=[TimingInfo(name='compile', started_at=datetime.datetime(2024, 6, 8, 2, 36, 42, 533548), completed_at=datetime.datetime(2024, 6, 8, 2, 36, 42, 538017)), TimingInfo(name='execute', started_at=datetime.datetime(2024, 6, 8, 2, 36, 42, 538359), completed_at=datetime.datetime(2024, 6, 8, 2, 36, 42, 609453))], thread_id='Thread-39 (worker)', execution_time=0.0770421028137207, adapter_response={'_message': 'OK'}, message='OK', failures=None, node=ModelNode(database='memory', schema='main', name='committee_burn_by_month', resource_type=<NodeType.Model: 'model'>, package_name='mi_cfr_duckdb', path='mart/committee_burn_by_month.sql', original_file_path='models/mart/committee_burn_by_month.sql', unique_id='model.mi_cfr_duckdb.committee_burn_by_month', fqn=['mi_cfr_duckdb', 'mart', 'committee_burn_by_month'], alias='committee_burn_by_month', checksum=FileHash(name='sha256', checksum='920846a2ef21765cba2fc6bc948ac00d23c42aea3d48b8b6ac10681c182f6aeb'), config=ModelConfig(_extra={'location': '../data/mart/committee_burn_by_month.parquet', 'format': 'parquet'}, enabled=True, alias=None, schema=None, database=None, tags=[], meta={}, group=None, materialized='external', incremental_strategy=None, persist_docs={}, post_hook=[], pre_hook=[], quoting={}, column_types={}, full_refresh=None, unique_key=None, on_schema_change='ignore', on_configuration_change=<OnConfigurationChangeOption.Apply: 'apply'>, grants={}, packages=[], docs=Docs(show=True, node_color=None), contract=ContractConfig(enforced=False, alias_types=True), access=<AccessType.Protected: 'protected'>), _event_status={}, tags=[], description='', columns={}, meta={}, group=None, docs=Docs(show=True, node_color=None), patch_path=None, build_path='target/run/mi_cfr_duckdb/models/mart/committee_burn_by_month.sql', unrendered_config={'materialized': 'external', 'location': '../data/mart/committee_burn_by_month.parquet', 'format': 'parquet'}, created_at=1717814200.1721218, config_call_dict={'materialized': 'external', 'location': '../data/mart/committee_burn_by_month.parquet', 'format': 'parquet'}, relation_name='\"memory\".\"main\".\"committee_burn_by_month\"', raw_code='{{ config(materialized=\\'external\\', location=\\'../data/mart/committee_burn_by_month.parquet\\', format=\\'parquet\\') }}\\n\\nWITH contributions AS (\\n    SELECT\\n        cfr_committee_id,\\n        committee_type,\\n        implied_party,\\n        committee_common_name,\\n        donation_received_year,\\n        donation_received_month,\\n        total_raised\\n    FROM {{ ref(\"committee_contributions_by_month\") }}\\n),\\nexpenditures AS (\\n    SELECT\\n        cfr_committee_id,\\n        implied_party,\\n        committee_type,\\n        committee_common_name,\\n        expenditure_year,\\n        expenditure_month,\\n        total_spent\\n    FROM {{ ref(\"committee_expenditures_by_month\")}}\\n),\\njoined AS (\\n    SELECT\\n        {{ choose_nonnull_value(\\'contributions.cfr_committee_id\\', \\'expenditures.cfr_committee_id\\', \\'cfr_committee_id\\') }},\\n        {{ choose_nonnull_value(\\'contributions.implied_party\\', \\'expenditures.implied_party\\', \\'implied_party\\') }},\\n        {{ choose_nonnull_value(\\'contributions.committee_type\\', \\'expenditures.committee_type\\', \\'committee_type\\') }},\\n        {{ choose_nonnull_value(\\'contributions.committee_common_name\\', \\'expenditures.committee_common_name\\', \\'committee_common_name\\') }},\\n        {{ choose_nonnull_value(\\'donation_received_year\\', \\'expenditure_year\\', \\'year\\') }},\\n        {{ choose_nonnull_value(\\'donation_received_month\\', \\'expenditure_month\\', \\'month\\') }},\\n        CASE WHEN total_raised IS NULL THEN 0 ELSE total_raised END AS total_raised,\\n        CASE WHEN total_spent IS NULL THEN 0 ELSE total_spent END AS total_spent\\n    FROM contributions\\n    JOIN expenditures\\n    ON contributions.cfr_committee_id = expenditures.cfr_committee_id\\n        AND contributions.donation_received_year = expenditures.expenditure_year\\n        AND contributions.donation_received_month = expenditures.expenditure_month\\n),\\noutput AS (\\n    SELECT\\n        cfr_committee_id,\\n        implied_party,\\n        committee_type,\\n        committee_common_name,\\n        year,\\n        month,\\n        total_raised,\\n        total_spent,\\n        total_raised-total_spent AS surplus,\\n        CASE WHEN total_raised != 0 THEN ROUND(1.0*total_spent/total_raised,2) ELSE NULL END AS burn_rate\\n    FROM joined\\n)\\nSELECT * FROM output', language=<ModelLanguage.sql: 'sql'>, refs=[RefArgs(name='committee_contributions_by_month', package=None, version=None), RefArgs(name='committee_expenditures_by_month', package=None, version=None)], sources=[], metrics=[], depends_on=DependsOn(macros=['macro.mi_cfr_duckdb.choose_nonnull_value'], nodes=['model.mi_cfr_duckdb.committee_contributions_by_month', 'model.mi_cfr_duckdb.committee_expenditures_by_month']), compiled_path='target/compiled/mi_cfr_duckdb/models/mart/committee_burn_by_month.sql', compiled=True, compiled_code='\\n\\nWITH contributions AS (\\n    SELECT\\n        cfr_committee_id,\\n        committee_type,\\n        implied_party,\\n        committee_common_name,\\n        donation_received_year,\\n        donation_received_month,\\n        total_raised\\n    FROM \"memory\".\"main\".\"committee_contributions_by_month\"\\n),\\nexpenditures AS (\\n    SELECT\\n        cfr_committee_id,\\n        implied_party,\\n        committee_type,\\n        committee_common_name,\\n        expenditure_year,\\n        expenditure_month,\\n        total_spent\\n    FROM \"memory\".\"main\".\"committee_expenditures_by_month\"\\n),\\njoined AS (\\n    SELECT\\n        \\n    CASE WHEN contributions.cfr_committee_id IS NULL THEN expenditures.cfr_committee_id ELSE contributions.cfr_committee_id END AS cfr_committee_id\\n,\\n        \\n    CASE WHEN contributions.implied_party IS NULL THEN expenditures.implied_party ELSE contributions.implied_party END AS implied_party\\n,\\n        \\n    CASE WHEN contributions.committee_type IS NULL THEN expenditures.committee_type ELSE contributions.committee_type END AS committee_type\\n,\\n        \\n    CASE WHEN contributions.committee_common_name IS NULL THEN expenditures.committee_common_name ELSE contributions.committee_common_name END AS committee_common_name\\n,\\n        \\n    CASE WHEN donation_received_year IS NULL THEN expenditure_year ELSE donation_received_year END AS year\\n,\\n        \\n    CASE WHEN donation_received_month IS NULL THEN expenditure_month ELSE donation_received_month END AS month\\n,\\n        CASE WHEN total_raised IS NULL THEN 0 ELSE total_raised END AS total_raised,\\n        CASE WHEN total_spent IS NULL THEN 0 ELSE total_spent END AS total_spent\\n    FROM contributions\\n    JOIN expenditures\\n    ON contributions.cfr_committee_id = expenditures.cfr_committee_id\\n        AND contributions.donation_received_year = expenditures.expenditure_year\\n        AND contributions.donation_received_month = expenditures.expenditure_month\\n),\\noutput AS (\\n    SELECT\\n        cfr_committee_id,\\n        implied_party,\\n        committee_type,\\n        committee_common_name,\\n        year,\\n        month,\\n        total_raised,\\n        total_spent,\\n        total_raised-total_spent AS surplus,\\n        CASE WHEN total_raised != 0 THEN ROUND(1.0*total_spent/total_raised,2) ELSE NULL END AS burn_rate\\n    FROM joined\\n)\\nSELECT * FROM output', extra_ctes_injected=True, extra_ctes=[], _pre_injected_sql=None, contract=Contract(enforced=False, alias_types=True, checksum=None), access=<AccessType.Protected: 'protected'>, constraints=[], version=None, latest_version=None, deprecation_date=None, defer_relation=None), agate_table=None)], elapsed_time=2.3596835136413574, args={'vars': {}, 'write_json': True, 'use_colors': True, 'log_path': '/home/rdubwiley/dbt/dbt-tutorials/mi_cfr_duckdb_dbt/logs', 'require_resource_names_without_spaces': False, 'log_file_max_bytes': 10485760, 'indirect_selection': 'eager', 'log_format_file': 'debug', 'which': 'run', 'enable_legacy_logger': False, 'printer_width': 80, 'version_check': True, 'quiet': False, 'strict_mode': False, 'macro_debugging': False, 'cache_selected_only': False, 'source_freshness_run_project_hooks': False, 'log_level_file': 'debug', 'warn_error_options': {'include': [], 'exclude': []}, 'select': (), 'favor_state': False, 'partial_parse_file_diff': True, 'defer': False, 'send_anonymous_usage_stats': True, 'log_level': 'info', 'static_parser': True, 'invocation_command': 'dbt --f=/home/rdubwiley/.local/share/jupyter/runtime/kernel-v2-23711to0dMczj0Q4m.json', 'introspect': True, 'populate_cache': True, 'show_resource_report': False, 'log_format': 'default', 'project_dir': '/home/rdubwiley/dbt/dbt-tutorials/mi_cfr_duckdb_dbt', 'partial_parse': True, 'profiles_dir': '/home/rdubwiley/dbt/dbt-tutorials/mi_cfr_duckdb_dbt', 'use_colors_file': True, 'empty': False, 'require_explicit_package_overrides_for_builtin_materializations': True, 'print': True, 'exclude': ()}, generated_at=datetime.datetime(2024, 6, 8, 2, 36, 42, 619502)))"
      ]
     },
     "execution_count": 12,
     "metadata": {},
     "output_type": "execute_result"
    }
   ],
   "source": [
    "dbt.invoke(['run'])"
   ]
  }
 ],
 "metadata": {
  "kernelspec": {
   "display_name": "venv",
   "language": "python",
   "name": "python3"
  },
  "language_info": {
   "codemirror_mode": {
    "name": "ipython",
    "version": 3
   },
   "file_extension": ".py",
   "mimetype": "text/x-python",
   "name": "python",
   "nbconvert_exporter": "python",
   "pygments_lexer": "ipython3",
   "version": "3.12.3"
  }
 },
 "nbformat": 4,
 "nbformat_minor": 2
}
