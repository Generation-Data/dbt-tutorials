{
 "cells": [
  {
   "cell_type": "markdown",
   "metadata": {},
   "source": [
    "# More On The Duckdb Python API\n",
    "### This notebook gives a little more info on using python functions with duckdb\n",
    "### For example take this function which gets json from a url"
   ]
  },
  {
   "cell_type": "code",
   "execution_count": 169,
   "metadata": {},
   "outputs": [],
   "source": [
    "import json\n",
    "from typing import List, Union\n",
    "\n",
    "from duckdb.typing import DuckDBPyType\n",
    "import pandas as pd\n",
    "import requests\n",
    "\n",
    "\n",
    "def get_url_json(url: str, keys: list[str]) -> DuckDBPyType(list[dict[str,str]]):\n",
    "    out_dict = requests.get(url).json()\n",
    "    for key in keys:\n",
    "        out_dict = out_dict[key]\n",
    "    for item in out_dict:\n",
    "        for key in item:\n",
    "            try:\n",
    "                item[key] = str(item[key])\n",
    "            except Exception:\n",
    "                item[key] = '' \n",
    "    return out_dict\n"
   ]
  },
  {
   "cell_type": "markdown",
   "metadata": {},
   "source": [
    "### Verifying that it works:"
   ]
  },
  {
   "cell_type": "code",
   "execution_count": 171,
   "metadata": {},
   "outputs": [
    {
     "data": {
      "text/plain": [
       "{'id': '1',\n",
       " 'firstName': 'Emily',\n",
       " 'lastName': 'Johnson',\n",
       " 'maidenName': 'Smith',\n",
       " 'age': '28',\n",
       " 'gender': 'female',\n",
       " 'email': 'emily.johnson@x.dummyjson.com',\n",
       " 'phone': '+81 965-431-3024',\n",
       " 'username': 'emilys',\n",
       " 'password': 'emilyspass',\n",
       " 'birthDate': '1996-5-30',\n",
       " 'image': 'https://dummyjson.com/icon/emilys/128',\n",
       " 'bloodGroup': 'O-',\n",
       " 'height': '193.24',\n",
       " 'weight': '63.16',\n",
       " 'eyeColor': 'Green',\n",
       " 'hair': \"{'color': 'Brown', 'type': 'Curly'}\",\n",
       " 'ip': '42.48.100.32',\n",
       " 'address': \"{'address': '626 Main Street', 'city': 'Phoenix', 'state': 'Mississippi', 'stateCode': 'MS', 'postalCode': '29112', 'coordinates': {'lat': -77.16213, 'lng': -92.084824}, 'country': 'United States'}\",\n",
       " 'macAddress': '47:fa:41:18:ec:eb',\n",
       " 'university': 'University of Wisconsin--Madison',\n",
       " 'bank': \"{'cardExpire': '03/26', 'cardNumber': '9289760655481815', 'cardType': 'Elo', 'currency': 'CNY', 'iban': 'YPUXISOBI7TTHPK2BR3HAIXL'}\",\n",
       " 'company': \"{'department': 'Engineering', 'name': 'Dooley, Kozey and Cronin', 'title': 'Sales Manager', 'address': {'address': '263 Tenth Street', 'city': 'San Francisco', 'state': 'Wisconsin', 'stateCode': 'WI', 'postalCode': '37657', 'coordinates': {'lat': 71.814525, 'lng': -161.150263}, 'country': 'United States'}}\",\n",
       " 'ein': '977-175',\n",
       " 'ssn': '900-590-289',\n",
       " 'userAgent': 'Mozilla/5.0 (Macintosh; Intel Mac OS X 10_15_7) AppleWebKit/537.36 (KHTML, like Gecko) Chrome/96.0.4664.93 Safari/537.36',\n",
       " 'crypto': \"{'coin': 'Bitcoin', 'wallet': '0xb9fc2fe63b2a6c003f1c324c3bfa53259162181a', 'network': 'Ethereum (ERC20)'}\",\n",
       " 'role': 'admin'}"
      ]
     },
     "execution_count": 171,
     "metadata": {},
     "output_type": "execute_result"
    }
   ],
   "source": [
    "get_url_json('http://dummyjson.com/users', ['users'])[0]"
   ]
  },
  {
   "cell_type": "markdown",
   "metadata": {},
   "source": [
    "### Now with a function that is type annotated we can pass it to duckdb using the function API, which requires a name to call the function and the function.\n",
    "### We can do some pretty wild stuff with this including this example where we get data from an API and use it to run SQL against it."
   ]
  },
  {
   "cell_type": "code",
   "execution_count": 178,
   "metadata": {},
   "outputs": [
    {
     "data": {
      "text/html": [
       "<div>\n",
       "<style scoped>\n",
       "    .dataframe tbody tr th:only-of-type {\n",
       "        vertical-align: middle;\n",
       "    }\n",
       "\n",
       "    .dataframe tbody tr th {\n",
       "        vertical-align: top;\n",
       "    }\n",
       "\n",
       "    .dataframe thead th {\n",
       "        text-align: right;\n",
       "    }\n",
       "</style>\n",
       "<table border=\"1\" class=\"dataframe\">\n",
       "  <thead>\n",
       "    <tr style=\"text-align: right;\">\n",
       "      <th></th>\n",
       "      <th>first_name</th>\n",
       "      <th>last_name</th>\n",
       "    </tr>\n",
       "  </thead>\n",
       "  <tbody>\n",
       "    <tr>\n",
       "      <th>0</th>\n",
       "      <td>Emily</td>\n",
       "      <td>Johnson</td>\n",
       "    </tr>\n",
       "    <tr>\n",
       "      <th>1</th>\n",
       "      <td>Michael</td>\n",
       "      <td>Williams</td>\n",
       "    </tr>\n",
       "    <tr>\n",
       "      <th>2</th>\n",
       "      <td>Sophia</td>\n",
       "      <td>Brown</td>\n",
       "    </tr>\n",
       "    <tr>\n",
       "      <th>3</th>\n",
       "      <td>James</td>\n",
       "      <td>Davis</td>\n",
       "    </tr>\n",
       "    <tr>\n",
       "      <th>4</th>\n",
       "      <td>Emma</td>\n",
       "      <td>Miller</td>\n",
       "    </tr>\n",
       "  </tbody>\n",
       "</table>\n",
       "</div>"
      ],
      "text/plain": [
       "  first_name last_name\n",
       "0      Emily   Johnson\n",
       "1    Michael  Williams\n",
       "2     Sophia     Brown\n",
       "3      James     Davis\n",
       "4       Emma    Miller"
      ]
     },
     "execution_count": 178,
     "metadata": {},
     "output_type": "execute_result"
    }
   ],
   "source": [
    "import duckdb\n",
    "\n",
    "conn = duckdb.connect()\n",
    "conn.create_function(\"get_url_json\", get_url_json)\n",
    "conn.sql(\"\"\"\n",
    "WITH base AS (\n",
    "    SELECT unnest(get_url_json('http://dummyjson.com/users', ['users'])) AS data\n",
    "),\n",
    "output AS (\n",
    "    SELECT \n",
    "         json_extract_string(data, '$.firstName') AS first_name,\n",
    "         json_extract_string(data, '$.lastName') AS last_name\n",
    "    FROM base\n",
    ")\n",
    "SELECT * FROM output\n",
    "LIMIT 5\n",
    "\"\"\").df()"
   ]
  },
  {
   "cell_type": "markdown",
   "metadata": {},
   "source": [
    "### One note is that duckdb has a nice feature in that you can pass dataframes in local memory and run sql against them.\n",
    "### For example here is the same idea, but with generating a dataframe and then passing it into the sql query with duckdb."
   ]
  },
  {
   "cell_type": "code",
   "execution_count": 177,
   "metadata": {},
   "outputs": [
    {
     "data": {
      "text/html": [
       "<div>\n",
       "<style scoped>\n",
       "    .dataframe tbody tr th:only-of-type {\n",
       "        vertical-align: middle;\n",
       "    }\n",
       "\n",
       "    .dataframe tbody tr th {\n",
       "        vertical-align: top;\n",
       "    }\n",
       "\n",
       "    .dataframe thead th {\n",
       "        text-align: right;\n",
       "    }\n",
       "</style>\n",
       "<table border=\"1\" class=\"dataframe\">\n",
       "  <thead>\n",
       "    <tr style=\"text-align: right;\">\n",
       "      <th></th>\n",
       "      <th>first_name</th>\n",
       "      <th>last_name</th>\n",
       "    </tr>\n",
       "  </thead>\n",
       "  <tbody>\n",
       "    <tr>\n",
       "      <th>0</th>\n",
       "      <td>Emily</td>\n",
       "      <td>Johnson</td>\n",
       "    </tr>\n",
       "    <tr>\n",
       "      <th>1</th>\n",
       "      <td>Michael</td>\n",
       "      <td>Williams</td>\n",
       "    </tr>\n",
       "    <tr>\n",
       "      <th>2</th>\n",
       "      <td>Sophia</td>\n",
       "      <td>Brown</td>\n",
       "    </tr>\n",
       "    <tr>\n",
       "      <th>3</th>\n",
       "      <td>James</td>\n",
       "      <td>Davis</td>\n",
       "    </tr>\n",
       "    <tr>\n",
       "      <th>4</th>\n",
       "      <td>Emma</td>\n",
       "      <td>Miller</td>\n",
       "    </tr>\n",
       "  </tbody>\n",
       "</table>\n",
       "</div>"
      ],
      "text/plain": [
       "  first_name last_name\n",
       "0      Emily   Johnson\n",
       "1    Michael  Williams\n",
       "2     Sophia     Brown\n",
       "3      James     Davis\n",
       "4       Emma    Miller"
      ]
     },
     "execution_count": 177,
     "metadata": {},
     "output_type": "execute_result"
    }
   ],
   "source": [
    "df = pd.DataFrame(get_url_json('http://dummyjson.com/users', ['users']))\n",
    "\n",
    "duckdb.sql(\"\"\"\n",
    "SELECT\n",
    "    firstName AS first_name,\n",
    "    lastName AS last_name\n",
    "FROM df\n",
    "LIMIT 5\n",
    "\"\"\").df()"
   ]
  },
  {
   "cell_type": "markdown",
   "metadata": {},
   "source": [
    "### For further reading I recommend looking at the duckdb docs on the function API [here](https://duckdb.org/docs/api/python/function.html)"
   ]
  }
 ],
 "metadata": {
  "kernelspec": {
   "display_name": "venv",
   "language": "python",
   "name": "python3"
  },
  "language_info": {
   "codemirror_mode": {
    "name": "ipython",
    "version": 3
   },
   "file_extension": ".py",
   "mimetype": "text/x-python",
   "name": "python",
   "nbconvert_exporter": "python",
   "pygments_lexer": "ipython3",
   "version": "3.12.3"
  }
 },
 "nbformat": 4,
 "nbformat_minor": 2
}
