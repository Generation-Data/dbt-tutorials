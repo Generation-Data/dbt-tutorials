{
 "cells": [
  {
   "cell_type": "markdown",
   "metadata": {},
   "source": [
    "# Duckdb db explorer\n",
    "### While I don't use it in this project, this is a notebook to look into the contents of a duckdb file\n",
    "### Uncomment the line:\n",
    "    ##path: ./data/db.duckdb\n",
    "### in profiles.yml within the dbt project if you want to create a duckdb database.\n",
    "### It's very similar to a sqlite database, but is single-threaded and has a lock"
   ]
  },
  {
   "cell_type": "code",
   "execution_count": 1,
   "metadata": {},
   "outputs": [],
   "source": [
    "import duckdb\n",
    "import pandas as pd\n",
    "\n",
    "conn = duckdb.connect('../data/data.duckdb')"
   ]
  },
  {
   "cell_type": "code",
   "execution_count": 2,
   "metadata": {},
   "outputs": [
    {
     "data": {
      "text/html": [
       "<div>\n",
       "<style scoped>\n",
       "    .dataframe tbody tr th:only-of-type {\n",
       "        vertical-align: middle;\n",
       "    }\n",
       "\n",
       "    .dataframe tbody tr th {\n",
       "        vertical-align: top;\n",
       "    }\n",
       "\n",
       "    .dataframe thead th {\n",
       "        text-align: right;\n",
       "    }\n",
       "</style>\n",
       "<table border=\"1\" class=\"dataframe\">\n",
       "  <thead>\n",
       "    <tr style=\"text-align: right;\">\n",
       "      <th></th>\n",
       "      <th>view_name</th>\n",
       "    </tr>\n",
       "  </thead>\n",
       "  <tbody>\n",
       "  </tbody>\n",
       "</table>\n",
       "</div>"
      ],
      "text/plain": [
       "Empty DataFrame\n",
       "Columns: [view_name]\n",
       "Index: []"
      ]
     },
     "execution_count": 2,
     "metadata": {},
     "output_type": "execute_result"
    }
   ],
   "source": [
    "view_df = conn.sql(\"SELECT view_name FROM duckdb_views;\").df()\n",
    "view_df.head()"
   ]
  },
  {
   "cell_type": "code",
   "execution_count": null,
   "metadata": {},
   "outputs": [],
   "source": [
    "from ipywidgets import interact\n",
    "\n",
    "def describe_view(view_name):\n",
    "    query = f\"DESCRIBE {view_name};\"\n",
    "    top_query = f\"SELECT * FROM {view_name} LIMIT 5;\"\n",
    "    describe_df = conn.sql(query).df()\n",
    "    top_df = conn.sql(top_query).df()\n",
    "    display(describe_df)\n",
    "    display(top_df)\n",
    "    #return describe_df, top_df\n",
    "\n",
    "interact(describe_view, view_name=list(view_df['view_name'].unique()))"
   ]
  },
  {
   "cell_type": "code",
   "execution_count": null,
   "metadata": {},
   "outputs": [],
   "source": [
    "def get_view_dfs(view_names):\n",
    "    output = {}\n",
    "    for view in view_names:\n",
    "        query = f\"SELECT * FROM {view};\"\n",
    "        output[view] = conn.sql(query).df()\n",
    "    return output\n",
    "\n",
    "view_dfs = get_view_dfs(view_df['view_name'].values)\n",
    "view_dfs['stg_contributions'].head()"
   ]
  }
 ],
 "metadata": {
  "kernelspec": {
   "display_name": "venv",
   "language": "python",
   "name": "python3"
  },
  "language_info": {
   "codemirror_mode": {
    "name": "ipython",
    "version": 3
   },
   "file_extension": ".py",
   "mimetype": "text/x-python",
   "name": "python",
   "nbconvert_exporter": "python",
   "pygments_lexer": "ipython3",
   "version": "3.12.3"
  }
 },
 "nbformat": 4,
 "nbformat_minor": 2
}
